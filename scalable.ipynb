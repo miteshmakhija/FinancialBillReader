{
 "cells": [
  {
   "cell_type": "markdown",
   "metadata": {},
   "source": [
    "## Convert Pdf to Image"
   ]
  },
  {
   "cell_type": "code",
   "execution_count": 9,
   "metadata": {},
   "outputs": [],
   "source": [
    "import wand\n",
    "import numpy"
   ]
  },
  {
   "cell_type": "code",
   "execution_count": 10,
   "metadata": {},
   "outputs": [],
   "source": [
    "final=r\"C:\\Users\\Admin\\Downloads\\inputfiles\\inputfiles\\input1.pdf\""
   ]
  },
  {
   "cell_type": "code",
   "execution_count": 11,
   "metadata": {},
   "outputs": [],
   "source": [
    "from wand.image import Image as Img\n",
    "with Img(filename=final, resolution=300) as img:\n",
    "    img.compression_quality =99\n",
    "    img.save(filename=r\"C:\\Users\\Admin\\Downloads\\inputfiles\\inputfiles\\input1\\input1.jpg\")"
   ]
  },
  {
   "cell_type": "code",
   "execution_count": 12,
   "metadata": {},
   "outputs": [],
   "source": [
    "import glob\n",
    "from pathlib import Path"
   ]
  },
  {
   "cell_type": "code",
   "execution_count": 13,
   "metadata": {},
   "outputs": [],
   "source": [
    "glob_path = Path(r\"C:\\Users\\Admin\\Downloads\\inputfiles\\inputfiles\\input1\")\n",
    "file_list=[str(pp) for pp in glob_path.glob(\"**/*.jpg\")]"
   ]
  },
  {
   "cell_type": "code",
   "execution_count": 14,
   "metadata": {},
   "outputs": [
    {
     "name": "stdout",
     "output_type": "stream",
     "text": [
      "['C:\\\\Users\\\\Admin\\\\Downloads\\\\inputfiles\\\\inputfiles\\\\input1\\\\input1-0.jpg', 'C:\\\\Users\\\\Admin\\\\Downloads\\\\inputfiles\\\\inputfiles\\\\input1\\\\input1-1.jpg', 'C:\\\\Users\\\\Admin\\\\Downloads\\\\inputfiles\\\\inputfiles\\\\input1\\\\input1-2.jpg', 'C:\\\\Users\\\\Admin\\\\Downloads\\\\inputfiles\\\\inputfiles\\\\input1\\\\input1-3.jpg', 'C:\\\\Users\\\\Admin\\\\Downloads\\\\inputfiles\\\\inputfiles\\\\input1\\\\input1-4.jpg']\n"
     ]
    }
   ],
   "source": [
    "print(file_list)"
   ]
  },
  {
   "cell_type": "markdown",
   "metadata": {},
   "source": [
    "## Image to Text (OCR)\n",
    "Use of Tesseract for performing OCR"
   ]
  },
  {
   "cell_type": "code",
   "execution_count": 15,
   "metadata": {},
   "outputs": [],
   "source": [
    "from PIL import Image\n",
    "import pytesseract\n",
    "#text = pytesseract.image_to_string(Image.open(r\"C:\\Users\\Admin\\Downloads\\inputfiles\\inputfiles\\ghn.jpg\"))"
   ]
  },
  {
   "cell_type": "code",
   "execution_count": 16,
   "metadata": {},
   "outputs": [
    {
     "data": {
      "text/plain": [
       "'C:\\\\Users\\\\Admin\\\\Downloads\\\\inputfiles\\\\inputfiles\\\\input1\\\\input1-0.jpg'"
      ]
     },
     "execution_count": 16,
     "metadata": {},
     "output_type": "execute_result"
    }
   ],
   "source": [
    "file_list[0]"
   ]
  },
  {
   "cell_type": "code",
   "execution_count": 17,
   "metadata": {},
   "outputs": [],
   "source": [
    "text=[]\n",
    "for file in file_list:\n",
    "        text.append(pytesseract.image_to_string(Image.open(file)))"
   ]
  },
  {
   "cell_type": "code",
   "execution_count": 18,
   "metadata": {},
   "outputs": [],
   "source": [
    "data=\"\"\n",
    "for i in text:\n",
    "    data=data+i"
   ]
  },
  {
   "cell_type": "code",
   "execution_count": 19,
   "metadata": {},
   "outputs": [
    {
     "data": {
      "text/plain": [
       "'OME Mo. 1651-0055\\nExp. Cast\\ns0a0\\n\\nCERTIFICATE OF ORIGIN aia\\n1S CPR TEA, 1812\\n4. EXPORTER NAME, ADDRE 34 AND EMAIL:\\nDadge Com.\\n112 Dodge 51, Omana, NE\\n6a1a2\\nlogisticagidodz=.com\\nTAX IDENTIFICATION NUMBER: NE\\n3. PRODUCER MAME, ADDRE #4 AND EME: 4. IMPORTER: MAME, AUDDRE 8 ANID EINE:\\nDodge Corp Pistons\\n\\n112 DadgeSt, Omana, NE S122 299 2nd street, Detroit\\nPistonefigmall.cam\\n\\nlozistica doi com\\nTAX IDENTIFICATION NUMBER: NE - 9876543 : DT- 9874\\n\\ntS Barr\\n3 DESGEr\" 1 PO O CS) GAS SIPICA TIO M meres: wmulice\\nMBER CERA\\n\\n| Auto parts-radiators | 356 RS JA\\n\\nI CERTIFY THAT:\\n\\n“THE IORMATION ON THE DOCUMENT I TRUE AND ACCURATE AND | ASSUME THE RESP ONEIUTY FOR PROVING SUCH\\nREPRESENTATIONS. | UNDERSTAND THAT | AM UASLE POR ANY FALSE STATEMENTS OR MATERIAL OMISS0OMS MADE OM OR I\\n\\n\" _AGREE TO MAINT AI, AND PRESENT UPON REQUEST, DOCUMENTATION NECESSARY TO SUPPORT THE CERTRICATE, AND TO INFORM,\\nIN WWRTING, ALL PERGONS TO WHOM THE CERTIFICATE WAS GIVEN OF ANY CHANGES THAT COULD ARFECT THE ACCURACY OF VAUDITY\\n\"THE GOODE ORIGINATED IN THE TERRITORY OF ONE OR MORE OF THE PARTIES, AND GOMPLY WITH THE ORG REQUIREMENTS\\n\\n411 OR ANNEX 401, THERE HAS BEEN NO FURTHER PRODUCTION OF ANY OTHER OF ERATION OUTSIDE THE TERRITORIES OF THE\\nPARTIES; AND\\n\\n[+ ences, INCLUDING ALL ATTACHMENTS.\\n\\n=== a\\n\\n1 DATE MMO 1: 11. TELEPHONE NUMBER: 874 Tas 203 41g. EMwuL: logistice@idodee. com\\n34/10/2020\\n\\n(CEP Fonm 434 (1148)Commercial Invoice\\n\\nPO Humber\\n\\nTanme\\n\\n|\\n\\nBratarms imroice Humber\\n\\nCoaiemar Ascomo§ Memb ar\\n\\nS82 864 124 BOPS#é1342\\n\\nseteatyce\\n\\nco of Dectinaton\\n\\npporter Ganteed Pihoms\\n\\n618-453 545\\n\\nCoen\\n\\n   \\n  \\n\\n \\n\\nre ee ee\\n\\nEx-Worke Value $100\\ninland Freight Fasc 200\\nHandling Fees #400\\nGoncular Fae\\nDoar Fee\\nIncurancs Feac 3 1000\\n‘Cine Change:\\n\\n \\n\\nAuthorized dignature\\nPage 1 ofFetWo 9 Enee Pineg: Omaha\\n\\nAt WME\\n\\nPay doce onker of One Hundred thousand\\n\\nCaste: Teas\\n\\n \\n\\n4356 BOO0\\n\\nFisferemnce Memiver\\n\\nSir/Madam We andase fhe iillowing for collectian. Please handie his collection in accardance with the Unifonm Rules\\nBe Collections In affect al he time of tis Wansacton, curenty (OC Publicaion URC Sz2.\\n\\nAdvise Payee Acceotemae byt\\n\\n0 Amel 0 Telex Ov SET\\n\\nO Age Gero by cob ping remo.\\n\\nChangec:\\nCollection charges tr\\n\\n‘O\" Our Account O Their Account\\n\\n0 AN chews. ane pagel by deve - wale Fete\\nCoA ches see pene by dimes - do not wel\\n\\n0 Agenisional deposit in lool cemency may be accosted.\\n\\nWihan Posi:\\n\\n0 CREDIT om AGDOUNT NO BANSETse76\\n\\nO Send PAYMENT to es by check, to the address below.\\n\\nin case of need, peter icc\\n\\nAuthodzed Signature\\n\\nDe Geter documents against pamentit sight det.\\n\\nof (einer denuments against aocetence |? time diet.\\n\\nOs Documents. to be nieicomfiered, In twolots.\\n\\nO Collecting bank may dieiay presentation und ariel of\\nOEHel camyling goods.\\n\\nPret af:\\nFrotest NoorPaymentNom Acceptance. Advise es. bic\\n\\n0 Ame 0 Telex Of Swat\\n\\nOo Do mot peotest.\\n\\nhina\\n\\nolheck imierest at ‘% perenne\\n\\n0 mo hes no authority to change these Instrections.\\n0 Whose Instractions may be followed In every respect.\\n\\n0 Wiese Iinstrections many be followed macert 2s noted betiow.Packing List\\n\\nPage tof 1\\n\\n \\n\\nGross. Weight Baek Wikeligint L ‘we H Cube\\nww zee 150000 i\" Ft\\nve mee «| D000 a 5 5 3 .\\n\\nTotal Mamber of Regs, 100\\n\\n \\n\\nAuthorized Signviurs:Page dori |\\n\\nD\\n=\\nso\\n©\\nI\\n—_\\n3\\na\\n=\\n©\\no\\na\\nOo\\n\\n[\\n\\neo\\n\\nExporter\\n\\npo\\n\\nCp ee\\n\\na\\n\\neee need\\n\\nBitter ees\\n\\ndita\\n\\naac\\n\\n-+-----------------\\n\\nFecwipt 0 | omertio Routing\\n\\nPlace of\\nase\\n\\nol pia ar\\n\\nPreCarrlage By\\n\\nI\\nfo\\n\\n\"Whine Fase 2\\n+\\n\\nARREST NTT TICLE TSN Oy\\n\\n|Losding Fler Tenminal\\n\\nof Mowe\\n\\nat\\n\\n=a\\n\\n \\n\\nPort of Din\\n\\n=e ee ee ee ee\\n\\nThala carmel, achicha er Moai ie deh dee eS Tees rab Lda Sina br dt cera ah hab Ree deireiiradon: Ragu Divergion coraury Wk les protibeed. Curriac he\\n\\nale aaa ey ke ase, dar ay a, Cindy dat Walia weds abel ak Cana bt\\n\\nThere are:\\n\\na7 o5461\\n\\nOM 34\\n\\npee\\nhee\\n\\nSrlnamael Senna Sigg lrg dace 4 aie. da ached,\\n\\n:\\n:\\n?'"
      ]
     },
     "execution_count": 19,
     "metadata": {},
     "output_type": "execute_result"
    }
   ],
   "source": [
    "data"
   ]
  },
  {
   "cell_type": "markdown",
   "metadata": {},
   "source": [
    "## Natural Language Processing (NLP)\n",
    "Use of SpaCy for NLP "
   ]
  },
  {
   "cell_type": "code",
   "execution_count": 21,
   "metadata": {},
   "outputs": [
    {
     "name": "stdout",
     "output_type": "stream",
     "text": [
      "Requirement already satisfied: spacy in c:\\program files (x86)\\microsoft visual studio\\shared\\anaconda3_64\\lib\\site-packages (2.1.7)\n",
      "Requirement already satisfied: plac<1.0.0,>=0.9.6 in c:\\program files (x86)\\microsoft visual studio\\shared\\anaconda3_64\\lib\\site-packages (from spacy) (0.9.6)\n",
      "Requirement already satisfied: thinc<7.1.0,>=7.0.8 in c:\\program files (x86)\\microsoft visual studio\\shared\\anaconda3_64\\lib\\site-packages (from spacy) (7.0.8)\n",
      "Requirement already satisfied: srsly<1.1.0,>=0.0.6 in c:\\program files (x86)\\microsoft visual studio\\shared\\anaconda3_64\\lib\\site-packages (from spacy) (0.0.7)\n",
      "Requirement already satisfied: blis<0.3.0,>=0.2.2 in c:\\program files (x86)\\microsoft visual studio\\shared\\anaconda3_64\\lib\\site-packages (from spacy) (0.2.4)\n",
      "Requirement already satisfied: requests<3.0.0,>=2.13.0 in c:\\program files (x86)\\microsoft visual studio\\shared\\anaconda3_64\\lib\\site-packages (from spacy) (2.22.0)\n",
      "Requirement already satisfied: murmurhash<1.1.0,>=0.28.0 in c:\\program files (x86)\\microsoft visual studio\\shared\\anaconda3_64\\lib\\site-packages (from spacy) (1.0.2)\n",
      "Requirement already satisfied: preshed<2.1.0,>=2.0.1 in c:\\program files (x86)\\microsoft visual studio\\shared\\anaconda3_64\\lib\\site-packages (from spacy) (2.0.1)\n",
      "Requirement already satisfied: wasabi<1.1.0,>=0.2.0 in c:\\program files (x86)\\microsoft visual studio\\shared\\anaconda3_64\\lib\\site-packages (from spacy) (0.2.2)\n",
      "Requirement already satisfied: numpy>=1.15.0 in c:\\program files (x86)\\microsoft visual studio\\shared\\anaconda3_64\\lib\\site-packages (from spacy) (1.16.4)\n",
      "Requirement already satisfied: cymem<2.1.0,>=2.0.2 in c:\\program files (x86)\\microsoft visual studio\\shared\\anaconda3_64\\lib\\site-packages (from spacy) (2.0.2)\n",
      "Requirement already satisfied: tqdm<5.0.0,>=4.10.0 in c:\\program files (x86)\\microsoft visual studio\\shared\\anaconda3_64\\lib\\site-packages (from thinc<7.1.0,>=7.0.8->spacy) (4.32.2)\n",
      "Requirement already satisfied: certifi>=2017.4.17 in c:\\program files (x86)\\microsoft visual studio\\shared\\anaconda3_64\\lib\\site-packages (from requests<3.0.0,>=2.13.0->spacy) (2018.4.16)\n",
      "Requirement already satisfied: chardet<3.1.0,>=3.0.2 in c:\\program files (x86)\\microsoft visual studio\\shared\\anaconda3_64\\lib\\site-packages (from requests<3.0.0,>=2.13.0->spacy) (3.0.4)\n",
      "Requirement already satisfied: urllib3!=1.25.0,!=1.25.1,<1.26,>=1.21.1 in c:\\program files (x86)\\microsoft visual studio\\shared\\anaconda3_64\\lib\\site-packages (from requests<3.0.0,>=2.13.0->spacy) (1.22)\n",
      "Requirement already satisfied: idna<2.9,>=2.5 in c:\\program files (x86)\\microsoft visual studio\\shared\\anaconda3_64\\lib\\site-packages (from requests<3.0.0,>=2.13.0->spacy) (2.6)\n"
     ]
    }
   ],
   "source": [
    "!pip install spacy"
   ]
  },
  {
   "cell_type": "code",
   "execution_count": 22,
   "metadata": {},
   "outputs": [
    {
     "name": "stdout",
     "output_type": "stream",
     "text": [
      "Collecting en_core_web_sm==2.1.0 from https://github.com/explosion/spacy-models/releases/download/en_core_web_sm-2.1.0/en_core_web_sm-2.1.0.tar.gz#egg=en_core_web_sm==2.1.0\n",
      "  Downloading https://github.com/explosion/spacy-models/releases/download/en_core_web_sm-2.1.0/en_core_web_sm-2.1.0.tar.gz (11.1MB)\n",
      "Building wheels for collected packages: en-core-web-sm\n",
      "  Building wheel for en-core-web-sm (setup.py): started\n",
      "  Building wheel for en-core-web-sm (setup.py): finished with status 'done'\n",
      "  Created wheel for en-core-web-sm: filename=en_core_web_sm-2.1.0-cp36-none-any.whl size=11074443 sha256=47d9a782610255f08a57db002be620e77ae8b73c6aeff31a02227ef67dcbefe0\n",
      "  Stored in directory: C:\\Users\\Admin\\AppData\\Local\\Temp\\pip-ephem-wheel-cache-p8cpbhp8\\wheels\\39\\ea\\3b\\507f7df78be8631a7a3d7090962194cf55bc1158572c0be77f\n",
      "Successfully built en-core-web-sm\n",
      "Installing collected packages: en-core-web-sm\n",
      "Successfully installed en-core-web-sm-2.1.0\n",
      "[+] Download and installation successful\n",
      "You can now load the model via spacy.load('en_core_web_sm')\n"
     ]
    }
   ],
   "source": [
    " !python -m spacy download en_core_web_sm"
   ]
  },
  {
   "cell_type": "code",
   "execution_count": 23,
   "metadata": {
    "scrolled": true
   },
   "outputs": [
    {
     "name": "stdout",
     "output_type": "stream",
     "text": [
      "Collecting en_core_web_md==2.1.0 from https://github.com/explosion/spacy-models/releases/download/en_core_web_md-2.1.0/en_core_web_md-2.1.0.tar.gz#egg=en_core_web_md==2.1.0\n",
      "  Downloading https://github.com/explosion/spacy-models/releases/download/en_core_web_md-2.1.0/en_core_web_md-2.1.0.tar.gz (95.4MB)\n",
      "Building wheels for collected packages: en-core-web-md\n",
      "  Building wheel for en-core-web-md (setup.py): started\n",
      "  Building wheel for en-core-web-md (setup.py): finished with status 'done'\n",
      "  Created wheel for en-core-web-md: filename=en_core_web_md-2.1.0-cp36-none-any.whl size=97126243 sha256=125918da5fde4caa836b328239600746106727d2eb67930b02c7b23bf875bc4f\n",
      "  Stored in directory: C:\\Users\\Admin\\AppData\\Local\\Temp\\pip-ephem-wheel-cache-_y57emw3\\wheels\\c1\\2c\\5f\\fd7f3ec336bf97b0809c86264d2831c5dfb00fc2e239d1bb01\n",
      "Successfully built en-core-web-md\n",
      "Installing collected packages: en-core-web-md\n",
      "  Found existing installation: en-core-web-md 2.0.0\n",
      "    Uninstalling en-core-web-md-2.0.0:\n",
      "      Successfully uninstalled en-core-web-md-2.0.0\n",
      "Successfully installed en-core-web-md-2.1.0\n",
      "[+] Download and installation successful\n",
      "You can now load the model via spacy.load('en_core_web_md')\n",
      "symbolic link created for C:\\Program Files (x86)\\Microsoft Visual Studio\\Shared\\Anaconda3_64\\lib\\site-packages\\spacy\\data\\en <<===>> C:\\Program Files (x86)\\Microsoft Visual Studio\\Shared\\Anaconda3_64\\lib\\site-packages\\en_core_web_md\n",
      "[+] Linking successful\n",
      "C:\\Program Files (x86)\\Microsoft Visual\n",
      "Studio\\Shared\\Anaconda3_64\\lib\\site-packages\\en_core_web_md --> C:\\Program Files\n",
      "(x86)\\Microsoft Visual\n",
      "Studio\\Shared\\Anaconda3_64\\lib\\site-packages\\spacy\\data\\en\n",
      "You can now load the model via spacy.load('en')\n"
     ]
    }
   ],
   "source": [
    "!python -m spacy download en_core_web_md\n",
    "!python -m spacy link en_core_web_md en"
   ]
  },
  {
   "cell_type": "markdown",
   "metadata": {},
   "source": [
    "### Bill 1"
   ]
  },
  {
   "cell_type": "code",
   "execution_count": 20,
   "metadata": {},
   "outputs": [],
   "source": [
    "import spacy\n",
    "\n",
    "nlp = spacy.load('en_core_web_sm')"
   ]
  },
  {
   "cell_type": "code",
   "execution_count": 21,
   "metadata": {},
   "outputs": [],
   "source": [
    "doc = nlp(data)\n",
    "\n"
   ]
  },
  {
   "cell_type": "code",
   "execution_count": 22,
   "metadata": {},
   "outputs": [
    {
     "name": "stdout",
     "output_type": "stream",
     "text": [
      "OME Mo. ORG\n",
      "1651-0055 DATE\n",
      "ORIGIN ORG\n",
      "1812 DATE\n",
      "4 CARDINAL\n",
      "EXPORTER NAME ORG\n",
      "Dadge Com PERSON\n",
      "112 CARDINAL\n",
      "Dodge ORG\n",
      "51 PRODUCT\n",
      "Omana ORG\n",
      "NE ORG\n",
      "6a1a2\n",
      " QUANTITY\n",
      "3 CARDINAL\n",
      "PRODUCER MAME ORG\n",
      "4 CARDINAL\n",
      "IMPORTER ORG\n",
      "MAME ORG\n",
      "Omana GPE\n",
      "NE ORG\n",
      "299 2nd DATE\n",
      "Detroit GPE\n",
      "9874 PRODUCT\n",
      "Barr PERSON\n",
      "3 CARDINAL\n",
      "PO O CS ORG\n",
      "MBER PERSON\n",
      "356 CARDINAL\n",
      "RS ORG\n",
      "UNDERSTAND ORG\n",
      "AGREE ORG\n",
      "DOCUMENTATION NECESSARY ORG\n",
      "THE GOODE ORIGINATED IN THE TERRITORY OF ONE OR WORK_OF_ART\n",
      "ORG ORG\n",
      "411 CARDINAL\n",
      "11 CARDINAL\n",
      "874 CARDINAL\n",
      "41 CARDINAL\n",
      "Humber\n",
      "\n",
      "Coaiemar Ascomo§ PERSON\n",
      "124 CARDINAL\n",
      "Dectinaton ORG\n",
      "Ganteed Pihoms ORG\n",
      "618 CARDINAL\n",
      "100 MONEY\n",
      "Freight Fasc FAC\n",
      "200 CARDINAL\n",
      "#400 MONEY\n",
      "Incurancs GPE\n",
      "1 CARDINAL\n",
      "9 CARDINAL\n",
      "Omaha\n",
      "\n",
      " PERSON\n",
      "WME ORG\n",
      "One Hundred thousand CARDINAL\n",
      "the Unifonm Rules\n",
      " ORG\n",
      "Wansacton PERSON\n",
      "Advise Payee Acceotemae ORG\n",
      "Our Account O Their Account WORK_OF_ART\n",
      "Fete ORG\n",
      "Wihan Posi PERSON\n",
      "De Geter PERSON\n",
      "‘% PERCENT\n",
      "Whose Instractions ORG\n",
      "0 CARDINAL\n",
      "1 CARDINAL\n",
      "150000 DATE\n",
      "100 CARDINAL\n",
      "3 CARDINAL\n",
      "Bitter PERSON\n",
      "Whine Fase 2\n",
      " WORK_OF_ART\n",
      "Mowe ORG\n",
      "Moai PERSON\n",
      "Lda Sina PERSON\n",
      "Ree PERSON\n",
      "Cindy PERSON\n",
      "Walia GPE\n",
      "Cana bt\n",
      "\n",
      " WORK_OF_ART\n",
      "Sigg PERSON\n"
     ]
    }
   ],
   "source": [
    "for ent in doc.ents:\n",
    "  #print the entity text and its label\n",
    "  print(ent.text, ent.label_)"
   ]
  },
  {
   "cell_type": "markdown",
   "metadata": {},
   "source": [
    "### Bill 2"
   ]
  },
  {
   "cell_type": "code",
   "execution_count": 35,
   "metadata": {},
   "outputs": [],
   "source": [
    "text = pytesseract.image_to_string(Image.open(r\"C:\\Users\\Admin\\Downloads\\inputfiles\\inputfiles\\burger-0.jpg\"))"
   ]
  },
  {
   "cell_type": "code",
   "execution_count": 36,
   "metadata": {},
   "outputs": [
    {
     "name": "stdout",
     "output_type": "stream",
     "text": [
      "Burger King Restaurant Germany\n",
      "SSP Deutsch! and GmbH\n",
      "Willy-Brandt-Platz 5\n",
      "\n",
      "D-04109 Leipzig\n",
      "Tel. 0341/ 2 24 89 10\n",
      "Fax. 0341 / 2 24 89 11\n",
      "\n",
      "9054 Danoun!\n",
      "\n",
      "2G OOEe EE Sw <i pel OES Met AP COU GRE ES SOS SEE SER fee) ee oe eh eb one ee eee Oe ond ee Oe ee ee ee ee ee\n",
      "\n",
      "a ee UD CUNT Sate CEO VS CD SAE ests OOM COP CEN Gt Tew CEE Reb Ets OO8 ED See GEES GOED eee GEe aE WS EEE fee ee Ce\n",
      "\n",
      "Im Haus\n",
      "| M.Whopper Cheese 9.59\n",
      "Whopper Ch\n",
      "EXTRA Bacon\n",
      "EXT Ketch z.Men\"\n",
      "King Pommes Lrg\n",
      "Coca Cola Lrg\n",
      "\n",
      "ec cash 9 59\n",
      "1.53 MwSt. 19% 9.59\n",
      "Netto 8.06\n",
      "Zw.summe 9.59\n",
      "Zu zahlen 9 59\n",
      "\n",
      "Wir danken Ihnen f\"r\n",
      "\n",
      "Ihren Besuch und w\"nschen\n",
      "eine angenehme Weiterfahrt!!!\n",
      "St. Nr.: 047 243 68921\n",
      "\n",
      "Store Nr. 16497\n",
      "\n",
      "~\n",
      "\n",
      "BITTE WENDEN as BITTE WENDEN ay BITTE WENDEN ey GRATIS WHOPPER! ae\n",
      "\n",
      "Bay\n"
     ]
    }
   ],
   "source": [
    "print(text)"
   ]
  },
  {
   "cell_type": "code",
   "execution_count": 37,
   "metadata": {},
   "outputs": [],
   "source": [
    "doc=nlp(text)"
   ]
  },
  {
   "cell_type": "code",
   "execution_count": 38,
   "metadata": {},
   "outputs": [
    {
     "name": "stdout",
     "output_type": "stream",
     "text": [
      "Burger King Restaurant Germany ORG\n",
      "SSP Deutsch ORG\n",
      "2 CARDINAL\n",
      "24 CARDINAL\n",
      "0341 CARDINAL\n",
      "2 CARDINAL\n",
      "OES Met AP COU ORG\n",
      "GRE ES ORG\n",
      "SER ORG\n",
      "one CARDINAL\n",
      "VS PRODUCT\n",
      "SAE ORG\n",
      "OOM COP ORG\n",
      "ED See ORG\n",
      "GEES ORG\n",
      "WS ORG\n",
      "Ce\n",
      "\n",
      " PERSON\n",
      "Whopper Ch ORG\n",
      "EXT Ketch PERSON\n",
      "9 59 CARDINAL\n",
      "1.53 CARDINAL\n",
      "19% PERCENT\n",
      "Zw.summe 9.59 DATE\n",
      "9 59 DATE\n",
      "St. Nr ORG\n",
      "047 CARDINAL\n",
      "243 CARDINAL\n"
     ]
    }
   ],
   "source": [
    "for ent in doc.ents:\n",
    "  #print the entity text and its label\n",
    "  print(ent.text, ent.label_)"
   ]
  },
  {
   "cell_type": "markdown",
   "metadata": {},
   "source": [
    "### Examples for SpaCy "
   ]
  },
  {
   "cell_type": "code",
   "execution_count": 41,
   "metadata": {},
   "outputs": [],
   "source": [
    "doc=nlp(\"\"\"Data science is a multi-disciplinary field that uses scientific methods, processes, algorithms and systems to extract knowledge and insights from structured and unstructured data.\n",
    "Data science is the same concept as data mining and big data: use the most powerful hardware, the most powerful programming systems, and the most efficient algorithms to solve problems\".[3]\n",
    "Data science is a concept to unify statistics, data analysis, machine learning and their related methods in order to understand\n",
    "and analyze actual phenomena with data.It employs techniques and theories drawn from many fields within the context of mathematics\n",
    ", statistics, computer science, and information science. Turing award winner Jim Gray imagined data science as a fourth paradigm\n",
    "of science (empirical, theoretical, computational and now data-driven) and asserted that \"everything about science is changing\n",
    "because of the impact of information technology\" and the data deluge.\n",
    "In 2015, the American Statistical Association identified database management, statistics and machine learning, and distributed\n",
    "and parallel systems as the three emerging foundational professional communities\"\"\")"
   ]
  },
  {
   "cell_type": "code",
   "execution_count": 47,
   "metadata": {},
   "outputs": [
    {
     "name": "stdout",
     "output_type": "stream",
     "text": [
      "Jim Gray    PERSON    \n",
      "fourth      ORDINAL   \n",
      "2015        DATE      \n",
      "the American Statistical AssociationORG       \n",
      "three       CARDINAL  \n"
     ]
    }
   ],
   "source": [
    "for ent in doc.ents:\n",
    "  #print the entity text and its label\n",
    "  print(\"{:<12}{:<10}\".format(ent.text, ent.label_))"
   ]
  },
  {
   "cell_type": "code",
   "execution_count": null,
   "metadata": {},
   "outputs": [],
   "source": []
  },
  {
   "cell_type": "code",
   "execution_count": 48,
   "metadata": {},
   "outputs": [],
   "source": [
    "doc =nlp(\"She ate the pizza\")"
   ]
  },
  {
   "cell_type": "code",
   "execution_count": 51,
   "metadata": {},
   "outputs": [
    {
     "name": "stdout",
     "output_type": "stream",
     "text": [
      "She PRON nsubj ate\n",
      "ate VERB ROOT ate\n",
      "the DET det pizza\n",
      "pizza NOUN dobj ate\n"
     ]
    }
   ],
   "source": [
    "#teration\n",
    "for token in doc:\n",
    "    print(token.text,token.pos_,token.dep_,token.head.text)"
   ]
  },
  {
   "cell_type": "code",
   "execution_count": 55,
   "metadata": {},
   "outputs": [],
   "source": [
    "doc = nlp(u\"Apple is looking at buying U.K STARTUP FOR $1 BIllion\" )"
   ]
  },
  {
   "cell_type": "code",
   "execution_count": 56,
   "metadata": {},
   "outputs": [
    {
     "name": "stdout",
     "output_type": "stream",
     "text": [
      "Apple PROPN nsubj looking\n",
      "is VERB aux looking\n",
      "looking VERB ROOT looking\n",
      "at ADP prep looking\n",
      "buying VERB pcomp at\n",
      "U.K PROPN compound STARTUP\n",
      "STARTUP NOUN dobj buying\n",
      "FOR ADP prep buying\n",
      "$ SYM quantmod BIllion\n",
      "1 NUM compound BIllion\n",
      "BIllion NUM pobj FOR\n"
     ]
    }
   ],
   "source": [
    "for token in doc:\n",
    "    print(token.text,token.pos_,token.dep_,token.head.text)"
   ]
  },
  {
   "cell_type": "code",
   "execution_count": 57,
   "metadata": {},
   "outputs": [
    {
     "name": "stdout",
     "output_type": "stream",
     "text": [
      "Apple ORG\n",
      "U.K GPE\n",
      "$1 BIllion MONEY\n"
     ]
    }
   ],
   "source": [
    "for ent in doc.ents:\n",
    "    print(ent.text,ent.label_)"
   ]
  },
  {
   "cell_type": "code",
   "execution_count": 58,
   "metadata": {},
   "outputs": [
    {
     "data": {
      "text/plain": [
       "'Countries, cities, states'"
      ]
     },
     "execution_count": 58,
     "metadata": {},
     "output_type": "execute_result"
    }
   ],
   "source": [
    "spacy.explain('GPE')"
   ]
  },
  {
   "cell_type": "code",
   "execution_count": 59,
   "metadata": {},
   "outputs": [
    {
     "data": {
      "text/plain": [
       "'Companies, agencies, institutions, etc.'"
      ]
     },
     "execution_count": 59,
     "metadata": {},
     "output_type": "execute_result"
    }
   ],
   "source": [
    "spacy.explain('ORG')"
   ]
  },
  {
   "cell_type": "code",
   "execution_count": 60,
   "metadata": {},
   "outputs": [
    {
     "data": {
      "text/plain": [
       "'Monetary values, including unit'"
      ]
     },
     "execution_count": 60,
     "metadata": {},
     "output_type": "execute_result"
    }
   ],
   "source": [
    "spacy.explain('MONEY')"
   ]
  },
  {
   "cell_type": "code",
   "execution_count": 61,
   "metadata": {},
   "outputs": [
    {
     "data": {
      "text/plain": [
       "'direct object'"
      ]
     },
     "execution_count": 61,
     "metadata": {},
     "output_type": "execute_result"
    }
   ],
   "source": [
    "spacy.explain('dobj')"
   ]
  },
  {
   "cell_type": "code",
   "execution_count": 64,
   "metadata": {},
   "outputs": [],
   "source": [
    "from spacy.matcher import Matcher"
   ]
  },
  {
   "cell_type": "code",
   "execution_count": 86,
   "metadata": {},
   "outputs": [],
   "source": [
    "#intialising the matcher\n",
    "matcher = Matcher(nlp.vocab)"
   ]
  },
  {
   "cell_type": "code",
   "execution_count": 87,
   "metadata": {},
   "outputs": [],
   "source": [
    "#add pattern to matcher\n",
    "pattern = [{'TEXT': 'iPhone'}, {'TEXT':'X'}]\n",
    "matcher.add('IPHONE_PATTERN',None,pattern)"
   ]
  },
  {
   "cell_type": "code",
   "execution_count": 83,
   "metadata": {},
   "outputs": [],
   "source": [
    "doc= nlp(\"New iPhone X release date leaked\")"
   ]
  },
  {
   "cell_type": "code",
   "execution_count": 84,
   "metadata": {},
   "outputs": [],
   "source": [
    "#call matcher on doc\n",
    "matches = matcher(doc)"
   ]
  },
  {
   "cell_type": "code",
   "execution_count": null,
   "metadata": {},
   "outputs": [],
   "source": []
  },
  {
   "cell_type": "code",
   "execution_count": 85,
   "metadata": {},
   "outputs": [
    {
     "name": "stdout",
     "output_type": "stream",
     "text": [
      "iPhone X\n"
     ]
    }
   ],
   "source": [
    "# iterate over the matches\n",
    "for match_id,start,end in matches:\n",
    "    #get match span\n",
    "    matched_span = doc[start:end]\n",
    "    print(matched_span.text)"
   ]
  },
  {
   "cell_type": "code",
   "execution_count": 88,
   "metadata": {},
   "outputs": [],
   "source": [
    "#matching lexical attributes\n",
    "pattern = [\n",
    "    {'IS_DIGIT': True},\n",
    "    {'LOWER': 'fifa'},\n",
    "    {'LOWER': 'world'},\n",
    "    {'LOWER': 'cup'},\n",
    "    {'IS_PUNCT': True}\n",
    "]\n",
    "\n",
    "doc = nlp(\"2018 FIFA World Cup: France won!\")"
   ]
  },
  {
   "cell_type": "code",
   "execution_count": 89,
   "metadata": {},
   "outputs": [],
   "source": [
    "matches = matcher(doc)"
   ]
  },
  {
   "cell_type": "code",
   "execution_count": 90,
   "metadata": {},
   "outputs": [],
   "source": [
    "# iterate over the matches\n",
    "for match_id,start,end in matches:\n",
    "    #get match span\n",
    "    matched_span = doc[start:end]\n",
    "    print(matched_span.text)"
   ]
  },
  {
   "cell_type": "markdown",
   "metadata": {},
   "source": [
    "Vocab: stores data shared across multiple documents\n",
    "To save memory, spaCy encodes all strings to hash values\n",
    "Strings are only stored once in the StringStore via nlp.vocab.strings\n",
    "String store: lookup table in both directions"
   ]
  },
  {
   "cell_type": "code",
   "execution_count": 94,
   "metadata": {},
   "outputs": [
    {
     "name": "stdout",
     "output_type": "stream",
     "text": [
      "hash value: 10994862047350104265\n"
     ]
    }
   ],
   "source": [
    "doc = nlp(\"I love doing Data Science\")\n",
    "print('hash value:',nlp.vocab.strings['Science'])"
   ]
  },
  {
   "cell_type": "code",
   "execution_count": 97,
   "metadata": {},
   "outputs": [
    {
     "name": "stdout",
     "output_type": "stream",
     "text": [
      "string value: Science\n"
     ]
    }
   ],
   "source": [
    "print('string value:',nlp.vocab.strings[ 10994862047350104265])"
   ]
  },
  {
   "cell_type": "code",
   "execution_count": 100,
   "metadata": {},
   "outputs": [
    {
     "name": "stdout",
     "output_type": "stream",
     "text": [
      "Science 10994862047350104265 True\n"
     ]
    }
   ],
   "source": [
    "# lexemes\n",
    "#A lexeme object is an entry in vocabulary\n",
    "doc = nlp(\"I love Science\")\n",
    "lexeme = nlp.vocab['Science']\n",
    "# Prin the lexical attributes\n",
    "print(lexeme.text,lexeme.orth,lexeme.is_alpha)"
   ]
  },
  {
   "cell_type": "code",
   "execution_count": 106,
   "metadata": {},
   "outputs": [],
   "source": [
    "from spacy.lang.en import English\n",
    "nlp= English()"
   ]
  },
  {
   "cell_type": "code",
   "execution_count": 107,
   "metadata": {},
   "outputs": [],
   "source": [
    "from spacy.tokens import Doc"
   ]
  },
  {
   "cell_type": "code",
   "execution_count": 108,
   "metadata": {},
   "outputs": [],
   "source": [
    "words= ['Hello','world','!']\n",
    "spaces = [True,False,False]"
   ]
  },
  {
   "cell_type": "code",
   "execution_count": 111,
   "metadata": {},
   "outputs": [],
   "source": [
    "#create a doc manually\n",
    "doc= Doc(nlp.vocab,words=words,spaces=spaces)"
   ]
  },
  {
   "cell_type": "code",
   "execution_count": null,
   "metadata": {},
   "outputs": [],
   "source": [
    "print(doc)"
   ]
  },
  {
   "cell_type": "code",
   "execution_count": 112,
   "metadata": {},
   "outputs": [],
   "source": [
    "from spacy.tokens import Doc,Span\n"
   ]
  },
  {
   "cell_type": "code",
   "execution_count": 113,
   "metadata": {},
   "outputs": [],
   "source": [
    "#create a span manually\n",
    "span= Span(doc,0,2)"
   ]
  },
  {
   "cell_type": "code",
   "execution_count": 114,
   "metadata": {},
   "outputs": [],
   "source": [
    "# create a span with label\n",
    "span_with_label = Span(doc,0,2,label=\"GREETING\")\n"
   ]
  },
  {
   "cell_type": "code",
   "execution_count": 115,
   "metadata": {},
   "outputs": [],
   "source": [
    "#Add span to the doc.ents\n",
    "doc.ents = [span_with_label]"
   ]
  },
  {
   "cell_type": "markdown",
   "metadata": {},
   "source": [
    "## Formating Data for Bill 1 after Spacy"
   ]
  },
  {
   "cell_type": "code",
   "execution_count": 3,
   "metadata": {},
   "outputs": [
    {
     "name": "stderr",
     "output_type": "stream",
     "text": [
      "C:\\Users\\ihrishi\\Anaconda3\\lib\\site-packages\\numpy\\core\\__init__.py:29: UserWarning: loaded more than 1 DLL from .libs:\n",
      "C:\\Users\\ihrishi\\Anaconda3\\lib\\site-packages\\numpy\\.libs\\libopenblas.IPBC74C7KURV7CB2PKT5Z5FNR3SIBV4J.gfortran-win_amd64.dll\n",
      "C:\\Users\\ihrishi\\Anaconda3\\lib\\site-packages\\numpy\\.libs\\libopenblas.TXA6YQSD3GCQQC22GEQ54J2UDCXDXHWN.gfortran-win_amd64.dll\n",
      "  stacklevel=1)\n"
     ]
    }
   ],
   "source": [
    "import pandas as pd"
   ]
  },
  {
   "cell_type": "code",
   "execution_count": 4,
   "metadata": {},
   "outputs": [],
   "source": [
    "import spacy\n",
    "\n",
    "nlp = spacy.load(\"en_core_web_sm\")"
   ]
  },
  {
   "cell_type": "code",
   "execution_count": 5,
   "metadata": {},
   "outputs": [],
   "source": [
    "text=\"\"\"Burger King Restaurant Germany\n",
    "SSP Deutsch! and GmbH\n",
    "Willy-Brandt-Platz 5\n",
    "\n",
    "D-04109 Leipzig\n",
    "Tel. 0341/ 2 24 89 10\n",
    "Fax. 0341 / 2 24 89 11\n",
    "\n",
    "9054 Danoun!\n",
    "\n",
    "2G OOEe EE Sw <i pel OES Met AP COU GRE ES SOS SEE SER fee) ee oe eh eb one ee eee Oe ond ee Oe ee ee ee ee ee\n",
    "\n",
    "a ee UD CUNT Sate CEO VS CD SAE ests OOM COP CEN Gt Tew CEE Reb Ets OO8 ED See GEES GOED eee GEe aE WS EEE fee ee Ce\n",
    "\n",
    "Im Haus\n",
    "| M.Whopper Cheese 9.59\n",
    "Whopper Ch\n",
    "EXTRA Bacon\n",
    "EXT Ketch z.Men\"\n",
    "King Pommes Lrg\n",
    "Coca Cola Lrg\n",
    "\n",
    "ec cash 9 59\n",
    "1.53 MwSt. 19% 9.59\n",
    "Netto 8.06\n",
    "Zw.summe 9.59\n",
    "Zu zahlen 9 59\n",
    "\n",
    "Wir danken Ihnen f\"r\n",
    "\n",
    "Ihren Besuch und w\"nschen\n",
    "eine angenehme Weiterfahrt!!!\n",
    "St. Nr.: 047 243 68921\n",
    "\n",
    "Store Nr. 16497\n",
    "\n",
    "~\n",
    "\n",
    "BITTE WENDEN as BITTE WENDEN ay BITTE WENDEN ey GRATIS WHOPPER! ae\n",
    "\n",
    "Bay\"\"\""
   ]
  },
  {
   "cell_type": "code",
   "execution_count": 6,
   "metadata": {},
   "outputs": [],
   "source": [
    "doc=nlp(text)"
   ]
  },
  {
   "cell_type": "code",
   "execution_count": 7,
   "metadata": {},
   "outputs": [
    {
     "name": "stdout",
     "output_type": "stream",
     "text": [
      "Burger King Restaurant Germany ORG\n",
      "SSP Deutsch ORG\n",
      "2 CARDINAL\n",
      "24 CARDINAL\n",
      "0341 CARDINAL\n",
      "2 CARDINAL\n",
      "OES Met AP COU ORG\n",
      "GRE ES ORG\n",
      "SER ORG\n",
      "one CARDINAL\n",
      "VS PRODUCT\n",
      "SAE ORG\n",
      "OOM COP ORG\n",
      "ED See ORG\n",
      "GEES ORG\n",
      "WS ORG\n",
      "Ce\n",
      "\n",
      " PERSON\n",
      "Whopper Ch ORG\n",
      "EXT Ketch PERSON\n",
      "9 59 CARDINAL\n",
      "1.53 CARDINAL\n",
      "19% PERCENT\n",
      "Zw.summe 9.59 DATE\n",
      "9 59 DATE\n",
      "St. Nr ORG\n",
      "047 CARDINAL\n",
      "243 CARDINAL\n"
     ]
    }
   ],
   "source": [
    "for ent in doc.ents:\n",
    "     print(ent.text,ent.label_)"
   ]
  },
  {
   "cell_type": "code",
   "execution_count": 8,
   "metadata": {},
   "outputs": [],
   "source": [
    "Ent=[]\n",
    "Label=[]"
   ]
  },
  {
   "cell_type": "code",
   "execution_count": 9,
   "metadata": {},
   "outputs": [],
   "source": [
    "for ent in doc.ents:\n",
    "    Ent.append(ent.text)\n",
    "    Label.append(ent.label_)"
   ]
  },
  {
   "cell_type": "code",
   "execution_count": 10,
   "metadata": {},
   "outputs": [],
   "source": [
    "data={'Ent':Ent,'Label':Label}"
   ]
  },
  {
   "cell_type": "code",
   "execution_count": 11,
   "metadata": {},
   "outputs": [],
   "source": [
    "df=pd.DataFrame(data)"
   ]
  },
  {
   "cell_type": "code",
   "execution_count": 13,
   "metadata": {},
   "outputs": [
    {
     "data": {
      "text/html": [
       "<div>\n",
       "<style scoped>\n",
       "    .dataframe tbody tr th:only-of-type {\n",
       "        vertical-align: middle;\n",
       "    }\n",
       "\n",
       "    .dataframe tbody tr th {\n",
       "        vertical-align: top;\n",
       "    }\n",
       "\n",
       "    .dataframe thead th {\n",
       "        text-align: right;\n",
       "    }\n",
       "</style>\n",
       "<table border=\"1\" class=\"dataframe\">\n",
       "  <thead>\n",
       "    <tr style=\"text-align: right;\">\n",
       "      <th></th>\n",
       "      <th>Ent</th>\n",
       "      <th>Label</th>\n",
       "    </tr>\n",
       "  </thead>\n",
       "  <tbody>\n",
       "    <tr>\n",
       "      <th>0</th>\n",
       "      <td>Burger King Restaurant Germany</td>\n",
       "      <td>ORG</td>\n",
       "    </tr>\n",
       "    <tr>\n",
       "      <th>1</th>\n",
       "      <td>SSP Deutsch</td>\n",
       "      <td>ORG</td>\n",
       "    </tr>\n",
       "    <tr>\n",
       "      <th>2</th>\n",
       "      <td>2</td>\n",
       "      <td>CARDINAL</td>\n",
       "    </tr>\n",
       "    <tr>\n",
       "      <th>3</th>\n",
       "      <td>24</td>\n",
       "      <td>CARDINAL</td>\n",
       "    </tr>\n",
       "    <tr>\n",
       "      <th>4</th>\n",
       "      <td>0341</td>\n",
       "      <td>CARDINAL</td>\n",
       "    </tr>\n",
       "    <tr>\n",
       "      <th>5</th>\n",
       "      <td>2</td>\n",
       "      <td>CARDINAL</td>\n",
       "    </tr>\n",
       "    <tr>\n",
       "      <th>6</th>\n",
       "      <td>OES Met AP COU</td>\n",
       "      <td>ORG</td>\n",
       "    </tr>\n",
       "    <tr>\n",
       "      <th>7</th>\n",
       "      <td>GRE ES</td>\n",
       "      <td>ORG</td>\n",
       "    </tr>\n",
       "    <tr>\n",
       "      <th>8</th>\n",
       "      <td>SER</td>\n",
       "      <td>ORG</td>\n",
       "    </tr>\n",
       "    <tr>\n",
       "      <th>9</th>\n",
       "      <td>one</td>\n",
       "      <td>CARDINAL</td>\n",
       "    </tr>\n",
       "    <tr>\n",
       "      <th>10</th>\n",
       "      <td>VS</td>\n",
       "      <td>PRODUCT</td>\n",
       "    </tr>\n",
       "    <tr>\n",
       "      <th>11</th>\n",
       "      <td>SAE</td>\n",
       "      <td>ORG</td>\n",
       "    </tr>\n",
       "    <tr>\n",
       "      <th>12</th>\n",
       "      <td>OOM COP</td>\n",
       "      <td>ORG</td>\n",
       "    </tr>\n",
       "    <tr>\n",
       "      <th>13</th>\n",
       "      <td>ED See</td>\n",
       "      <td>ORG</td>\n",
       "    </tr>\n",
       "    <tr>\n",
       "      <th>14</th>\n",
       "      <td>GEES</td>\n",
       "      <td>ORG</td>\n",
       "    </tr>\n",
       "    <tr>\n",
       "      <th>15</th>\n",
       "      <td>WS</td>\n",
       "      <td>ORG</td>\n",
       "    </tr>\n",
       "    <tr>\n",
       "      <th>16</th>\n",
       "      <td>Ce\\n\\n</td>\n",
       "      <td>PERSON</td>\n",
       "    </tr>\n",
       "    <tr>\n",
       "      <th>17</th>\n",
       "      <td>Whopper Ch</td>\n",
       "      <td>ORG</td>\n",
       "    </tr>\n",
       "    <tr>\n",
       "      <th>18</th>\n",
       "      <td>EXT Ketch</td>\n",
       "      <td>PERSON</td>\n",
       "    </tr>\n",
       "    <tr>\n",
       "      <th>19</th>\n",
       "      <td>9 59</td>\n",
       "      <td>CARDINAL</td>\n",
       "    </tr>\n",
       "    <tr>\n",
       "      <th>20</th>\n",
       "      <td>1.53</td>\n",
       "      <td>CARDINAL</td>\n",
       "    </tr>\n",
       "    <tr>\n",
       "      <th>21</th>\n",
       "      <td>19%</td>\n",
       "      <td>PERCENT</td>\n",
       "    </tr>\n",
       "    <tr>\n",
       "      <th>22</th>\n",
       "      <td>Zw.summe 9.59</td>\n",
       "      <td>DATE</td>\n",
       "    </tr>\n",
       "    <tr>\n",
       "      <th>23</th>\n",
       "      <td>9 59</td>\n",
       "      <td>DATE</td>\n",
       "    </tr>\n",
       "    <tr>\n",
       "      <th>24</th>\n",
       "      <td>St. Nr</td>\n",
       "      <td>ORG</td>\n",
       "    </tr>\n",
       "    <tr>\n",
       "      <th>25</th>\n",
       "      <td>047</td>\n",
       "      <td>CARDINAL</td>\n",
       "    </tr>\n",
       "    <tr>\n",
       "      <th>26</th>\n",
       "      <td>243</td>\n",
       "      <td>CARDINAL</td>\n",
       "    </tr>\n",
       "  </tbody>\n",
       "</table>\n",
       "</div>"
      ],
      "text/plain": [
       "                               Ent     Label\n",
       "0   Burger King Restaurant Germany       ORG\n",
       "1                      SSP Deutsch       ORG\n",
       "2                                2  CARDINAL\n",
       "3                               24  CARDINAL\n",
       "4                             0341  CARDINAL\n",
       "5                                2  CARDINAL\n",
       "6                   OES Met AP COU       ORG\n",
       "7                           GRE ES       ORG\n",
       "8                              SER       ORG\n",
       "9                              one  CARDINAL\n",
       "10                              VS   PRODUCT\n",
       "11                             SAE       ORG\n",
       "12                         OOM COP       ORG\n",
       "13                          ED See       ORG\n",
       "14                            GEES       ORG\n",
       "15                              WS       ORG\n",
       "16                          Ce\\n\\n    PERSON\n",
       "17                      Whopper Ch       ORG\n",
       "18                       EXT Ketch    PERSON\n",
       "19                            9 59  CARDINAL\n",
       "20                            1.53  CARDINAL\n",
       "21                             19%   PERCENT\n",
       "22                   Zw.summe 9.59      DATE\n",
       "23                            9 59      DATE\n",
       "24                          St. Nr       ORG\n",
       "25                             047  CARDINAL\n",
       "26                             243  CARDINAL"
      ]
     },
     "execution_count": 13,
     "metadata": {},
     "output_type": "execute_result"
    }
   ],
   "source": [
    "df"
   ]
  }
 ],
 "metadata": {
  "kernelspec": {
   "display_name": "Python 3",
   "language": "python",
   "name": "python3"
  },
  "language_info": {
   "codemirror_mode": {
    "name": "ipython",
    "version": 3
   },
   "file_extension": ".py",
   "mimetype": "text/x-python",
   "name": "python",
   "nbconvert_exporter": "python",
   "pygments_lexer": "ipython3",
   "version": "3.6.5"
  }
 },
 "nbformat": 4,
 "nbformat_minor": 2
}
